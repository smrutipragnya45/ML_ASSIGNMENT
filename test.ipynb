{
 "cells": [
  {
   "cell_type": "markdown",
   "id": "9c97e6e6",
   "metadata": {},
   "source": [
    "### Numpy"
   ]
  },
  {
   "cell_type": "markdown",
   "id": "c987d282",
   "metadata": {},
   "source": [
    "### 1.Create a 1D array from a list."
   ]
  },
  {
   "cell_type": "code",
   "execution_count": 46,
   "id": "edc4b49b",
   "metadata": {},
   "outputs": [
    {
     "name": "stdout",
     "output_type": "stream",
     "text": [
      "arr_1d: [1, 2, 3, 4, 5]\n"
     ]
    }
   ],
   "source": [
    "arr_1d=[1,2,3,4,5]\n",
    "print(\"arr_1d:\",arr_1d)"
   ]
  },
  {
   "cell_type": "markdown",
   "id": "81eea67b",
   "metadata": {},
   "source": [
    "### 2.Create a 3x3 array of zeros."
   ]
  },
  {
   "cell_type": "code",
   "execution_count": 84,
   "id": "69a1d2cc",
   "metadata": {},
   "outputs": [
    {
     "data": {
      "text/plain": [
       "array([[0., 0., 0.],\n",
       "       [0., 0., 0.],\n",
       "       [0., 0., 0.]])"
      ]
     },
     "execution_count": 84,
     "metadata": {},
     "output_type": "execute_result"
    }
   ],
   "source": [
    "import numpy as np\n",
    "zeros=np.zeros((3,3))\n",
    "zeros"
   ]
  },
  {
   "cell_type": "markdown",
   "id": "18619474",
   "metadata": {},
   "source": [
    "### 3. Create a 2x2 array of ones."
   ]
  },
  {
   "cell_type": "code",
   "execution_count": 121,
   "id": "01f1f3c9",
   "metadata": {},
   "outputs": [
    {
     "data": {
      "text/plain": [
       "array([[1., 1.],\n",
       "       [1., 1.]])"
      ]
     },
     "execution_count": 121,
     "metadata": {},
     "output_type": "execute_result"
    }
   ],
   "source": [
    "ones=np.ones((2,2))\n",
    "ones"
   ]
  },
  {
   "cell_type": "markdown",
   "id": "38bda1bf",
   "metadata": {},
   "source": [
    "### 4. Generate array from 0 to 10 (exclusive)."
   ]
  },
  {
   "cell_type": "code",
   "execution_count": null,
   "id": "8c494226",
   "metadata": {},
   "outputs": [
    {
     "data": {
      "text/plain": [
       "array([ 0,  1,  2,  3,  4,  5,  6,  7,  8,  9, 10])"
      ]
     },
     "execution_count": 122,
     "metadata": {},
     "output_type": "execute_result"
    }
   ],
   "source": [
    "arr = np.arange(0,11,1)\n",
    "arr"
   ]
  },
  {
   "cell_type": "markdown",
   "id": "7d9321db",
   "metadata": {},
   "source": [
    "### 5. Create 5 evenly spaced numbers between 0 and 1.\n"
   ]
  },
  {
   "cell_type": "code",
   "execution_count": null,
   "id": "1d575f68",
   "metadata": {},
   "outputs": [
    {
     "data": {
      "text/plain": [
       "array([0.  , 0.25, 0.5 , 0.75, 1.  ])"
      ]
     },
     "execution_count": 123,
     "metadata": {},
     "output_type": "execute_result"
    }
   ],
   "source": [
    "numbers = np.linspace(0, 1, 5)\n",
    "numbers"
   ]
  },
  {
   "cell_type": "markdown",
   "id": "892d4346",
   "metadata": {},
   "source": [
    "### 6. Create a 4x4 identity matrix.\n"
   ]
  },
  {
   "cell_type": "code",
   "execution_count": 157,
   "id": "e03bb203",
   "metadata": {},
   "outputs": [
    {
     "data": {
      "text/plain": [
       "array([[1., 0., 0., 0.],\n",
       "       [0., 1., 0., 0.],\n",
       "       [0., 0., 1., 0.],\n",
       "       [0., 0., 0., 1.]])"
      ]
     },
     "execution_count": 157,
     "metadata": {},
     "output_type": "execute_result"
    }
   ],
   "source": [
    "identity_matrix = np.identity(4)\n",
    "identity_matrix\n"
   ]
  },
  {
   "cell_type": "markdown",
   "id": "ebcb8793",
   "metadata": {},
   "source": [
    "### 7. Reshape 1D array to 2D.\n"
   ]
  },
  {
   "cell_type": "code",
   "execution_count": null,
   "id": "395a64f9",
   "metadata": {},
   "outputs": [
    {
     "data": {
      "text/plain": [
       "array([[1, 2, 3],\n",
       "       [4, 5, 6]])"
      ]
     },
     "execution_count": 158,
     "metadata": {},
     "output_type": "execute_result"
    }
   ],
   "source": [
    "arr = np.array([1, 2, 3, 4, 5, 6])\n",
    "reshaped_arr = arr.reshape(2, 3)\n",
    "reshaped_arr"
   ]
  },
  {
   "cell_type": "markdown",
   "id": "601f1038",
   "metadata": {},
   "source": [
    "### 8. Get the shape and dtype of an array.\n"
   ]
  },
  {
   "cell_type": "code",
   "execution_count": null,
   "id": "64ee27b0",
   "metadata": {},
   "outputs": [
    {
     "name": "stdout",
     "output_type": "stream",
     "text": [
      "(5,)\n",
      "float64\n"
     ]
    }
   ],
   "source": [
    "arr = np.array([1.5, 7.09, 3.32, 4.67, 5.8])\n",
    "print(arr.shape)\n",
    "print(arr.dtype)"
   ]
  },
  {
   "cell_type": "markdown",
   "id": "a765048d",
   "metadata": {},
   "source": [
    "### 9. Reverse a NumPy array.\n"
   ]
  },
  {
   "cell_type": "code",
   "execution_count": null,
   "id": "7fee8b54",
   "metadata": {},
   "outputs": [
    {
     "data": {
      "text/plain": [
       "array([5.8 , 4.67, 3.32, 7.09, 1.5 ])"
      ]
     },
     "execution_count": 160,
     "metadata": {},
     "output_type": "execute_result"
    }
   ],
   "source": [
    "arr = np.array([1.5, 7.09, 3.32, 4.67, 5.8])\n",
    "reversed_arr = arr[::-1]\n",
    "reversed_arr"
   ]
  },
  {
   "cell_type": "markdown",
   "id": "b826c527",
   "metadata": {},
   "source": [
    "### 10. Extract even numbers from an array.\n"
   ]
  },
  {
   "cell_type": "code",
   "execution_count": null,
   "id": "09c69edd",
   "metadata": {},
   "outputs": [
    {
     "data": {
      "text/plain": [
       "array([2, 4, 6, 8])"
      ]
     },
     "execution_count": 161,
     "metadata": {},
     "output_type": "execute_result"
    }
   ],
   "source": [
    "arr = np.array([1, 2, 3, 4, 5, 6, 7, 8, 9]) \n",
    "even_numbers = arr[arr % 2 == 0]\n",
    "even_numbers "
   ]
  },
  {
   "cell_type": "markdown",
   "id": "a33aa2c2",
   "metadata": {},
   "source": [
    "### 11. Find the max in each row.\n"
   ]
  },
  {
   "cell_type": "code",
   "execution_count": null,
   "id": "eba10125",
   "metadata": {},
   "outputs": [
    {
     "name": "stdout",
     "output_type": "stream",
     "text": [
      "9.76182\n"
     ]
    }
   ],
   "source": [
    "arr = np.array([ 7.21, 8.34, 1.36, 9.761, 2.46, 9.76182]) \n",
    "print(arr.max(axis=0))"
   ]
  },
  {
   "cell_type": "markdown",
   "id": "4c9a7706",
   "metadata": {},
   "source": [
    "### 12. Compute the mean, std, and median of an array."
   ]
  },
  {
   "cell_type": "code",
   "execution_count": 190,
   "id": "59f8c1d1",
   "metadata": {},
   "outputs": [
    {
     "name": "stdout",
     "output_type": "stream",
     "text": [
      "4.142857142857143\n",
      "2.2314999074019015\n",
      "4.0\n"
     ]
    }
   ],
   "source": [
    "arr=np.array([1,4,2,3,5,6,8])\n",
    "print(np.mean(arr,axis=0))\n",
    "print(np.std(arr,axis=0))\n",
    "print(np.median(arr,axis=0))"
   ]
  },
  {
   "cell_type": "markdown",
   "id": "5828d690",
   "metadata": {},
   "source": [
    "### 13. Stack two arrays vertically.\n"
   ]
  },
  {
   "cell_type": "code",
   "execution_count": null,
   "id": "af6f2baf",
   "metadata": {},
   "outputs": [
    {
     "data": {
      "text/plain": [
       "array([[1, 2, 3],\n",
       "       [4, 5, 6]])"
      ]
     },
     "execution_count": 191,
     "metadata": {},
     "output_type": "execute_result"
    }
   ],
   "source": [
    "a = np.array([1, 2, 3])\n",
    "b = np.array([4, 5, 6])\n",
    "result = np.vstack((a, b))\n",
    "result\n"
   ]
  },
  {
   "cell_type": "markdown",
   "id": "3faa0f21",
   "metadata": {},
   "source": [
    "### 14. Stack two arrays horizontally.\n"
   ]
  },
  {
   "cell_type": "code",
   "execution_count": null,
   "id": "2c1b65ac",
   "metadata": {},
   "outputs": [
    {
     "data": {
      "text/plain": [
       "array([1, 2, 3, 4, 5, 6])"
      ]
     },
     "execution_count": 192,
     "metadata": {},
     "output_type": "execute_result"
    }
   ],
   "source": [
    "a = np.array([1, 2, 3])\n",
    "b = np.array([4, 5, 6])\n",
    "result = np.hstack((a, b))\n",
    "result"
   ]
  },
  {
   "cell_type": "markdown",
   "id": "23479b01",
   "metadata": {},
   "source": [
    "### 15. Find the unique values and their counts.\n"
   ]
  },
  {
   "cell_type": "code",
   "execution_count": null,
   "id": "0357e292",
   "metadata": {},
   "outputs": [
    {
     "name": "stdout",
     "output_type": "stream",
     "text": [
      "Unique values: [1 2 3 5 7 9]\n",
      "Counts: [2 2 2 2 1 1]\n"
     ]
    }
   ],
   "source": [
    "arr= np.array([1, 2, 3, 5, 1, 7, 3, 2, 9, 5])\n",
    "unique_values, counts = np.unique(arr, return_counts=True)\n",
    "print(\"Unique values:\", unique_values)\n",
    "print(\"Counts:\", counts)\n"
   ]
  },
  {
   "cell_type": "markdown",
   "id": "9763ea36",
   "metadata": {},
   "source": [
    "### 16. Replace NaN with column means.\n"
   ]
  },
  {
   "cell_type": "code",
   "execution_count": 217,
   "id": "d0da6d89",
   "metadata": {},
   "outputs": [
    {
     "data": {
      "text/plain": [
       "array([[ 1.,  2.,  9.,  4.],\n",
       "       [ 5.,  6.,  7.,  8.],\n",
       "       [ 9., 10., 11.,  6.]])"
      ]
     },
     "execution_count": 217,
     "metadata": {},
     "output_type": "execute_result"
    }
   ],
   "source": [
    "arr = np.array([\n",
    "    [1, 2, np.nan, 4],\n",
    "    [5, np.nan, 7, 8],\n",
    "    [9, 10, 11, np.nan]\n",
    "])\n",
    "col_means = np.nanmean(arr, axis=0)\n",
    "inds = np.where(np.isnan(arr))\n",
    "arr[inds] = np.take(col_means, inds[1])\n",
    "arr\n"
   ]
  },
  {
   "cell_type": "markdown",
   "id": "a4954d04",
   "metadata": {},
   "source": [
    "### 17. Get index of min and max values.\n"
   ]
  },
  {
   "cell_type": "code",
   "execution_count": null,
   "id": "2723e5d3",
   "metadata": {},
   "outputs": [
    {
     "name": "stdout",
     "output_type": "stream",
     "text": [
      "Min value index: 2\n",
      "Max value index: 4\n"
     ]
    }
   ],
   "source": [
    "arr = np.array([3, 7, 1, 5, 8])\n",
    "min_index = np.argmin(arr)\n",
    "max_index = np.argmax(arr)\n",
    "print(f\"Min value index: {min_index}\")\n",
    "print(f\"Max value index: {max_index}\")\n"
   ]
  },
  {
   "cell_type": "markdown",
   "id": "eacf08f9",
   "metadata": {},
   "source": [
    "### 18. Create a 3D array of random integers.\n"
   ]
  },
  {
   "cell_type": "code",
   "execution_count": null,
   "id": "3fdbd14a",
   "metadata": {},
   "outputs": [
    {
     "data": {
      "text/plain": [
       "array([[[52, 24, 95],\n",
       "        [46, 51, 45],\n",
       "        [86, 17,  1]],\n",
       "\n",
       "       [[43, 65, 20],\n",
       "        [28, 27, 85],\n",
       "        [67, 81, 37]],\n",
       "\n",
       "       [[26, 92, 99],\n",
       "        [54, 48,  9],\n",
       "        [58, 54, 26]]], dtype=int32)"
      ]
     },
     "execution_count": 219,
     "metadata": {},
     "output_type": "execute_result"
    }
   ],
   "source": [
    "arr_3d = np.random.randint(low=0, high=100, size=(3, 3, 3))\n",
    "arr_3d"
   ]
  },
  {
   "cell_type": "markdown",
   "id": "6252d04e",
   "metadata": {},
   "source": [
    "### 19. Use np.where() to replace values\n"
   ]
  },
  {
   "cell_type": "code",
   "execution_count": null,
   "id": "4d497abf",
   "metadata": {},
   "outputs": [
    {
     "data": {
      "text/plain": [
       "array([ 1, 10,  3, 10,  2, 10])"
      ]
     },
     "execution_count": 220,
     "metadata": {},
     "output_type": "execute_result"
    }
   ],
   "source": [
    "arr = np.array([1, 7, 3, 9, 2, 6])\n",
    "new_arr = np.where(arr > 5, 10, arr)\n",
    "new_arr"
   ]
  },
  {
   "cell_type": "markdown",
   "id": "9e42297c",
   "metadata": {},
   "source": [
    "### Pandas"
   ]
  },
  {
   "cell_type": "markdown",
   "id": "747f11cd",
   "metadata": {},
   "source": [
    "### 1. Create a Series using a Python list."
   ]
  },
  {
   "cell_type": "code",
   "execution_count": 240,
   "id": "d2f1f7ef",
   "metadata": {},
   "outputs": [
    {
     "data": {
      "text/plain": [
       "0    10\n",
       "1    20\n",
       "2    30\n",
       "3    40\n",
       "4    50\n",
       "dtype: int64"
      ]
     },
     "execution_count": 240,
     "metadata": {},
     "output_type": "execute_result"
    }
   ],
   "source": [
    "import pandas as pd\n",
    "import numpy as np\n",
    "my_list = [10, 20, 30, 40, 50]\n",
    "series = pd.Series(my_list)\n",
    "series\n"
   ]
  },
  {
   "cell_type": "markdown",
   "id": "81003650",
   "metadata": {},
   "source": [
    "### 2. Create a Series with custom string indices.\n"
   ]
  },
  {
   "cell_type": "code",
   "execution_count": null,
   "id": "a72902e7",
   "metadata": {},
   "outputs": [
    {
     "data": {
      "text/plain": [
       "a    100\n",
       "b    200\n",
       "c    300\n",
       "d    400\n",
       "dtype: int64"
      ]
     },
     "execution_count": 241,
     "metadata": {},
     "output_type": "execute_result"
    }
   ],
   "source": [
    "data = [100, 200, 300, 400]\n",
    "indices = ['a', 'b', 'c', 'd']\n",
    "series = pd.Series(data, index=indices)\n",
    "series\n"
   ]
  },
  {
   "cell_type": "markdown",
   "id": "b36c3ea5",
   "metadata": {},
   "source": [
    "### 3. Create a Series from a dictionary.\n"
   ]
  },
  {
   "cell_type": "code",
   "execution_count": null,
   "id": "48ad271e",
   "metadata": {},
   "outputs": [
    {
     "data": {
      "text/plain": [
       "{'rent': 2500, 'grocery': 3000, 'travelling': 2000, 'insurance': 5000}"
      ]
     },
     "execution_count": 242,
     "metadata": {},
     "output_type": "execute_result"
    }
   ],
   "source": [
    "expense_dict={'rent':2500,'grocery':3000,'travelling':2000,'insurance':5000}\n",
    "expense_series=pd.Series(expense_dict)\n",
    "expense_dict"
   ]
  },
  {
   "cell_type": "markdown",
   "id": "0aeda169",
   "metadata": {},
   "source": [
    "### 4. Access first 3 elements of a Series.\n"
   ]
  },
  {
   "cell_type": "code",
   "execution_count": null,
   "id": "a8a3e612",
   "metadata": {},
   "outputs": [
    {
     "name": "stdout",
     "output_type": "stream",
     "text": [
      "0    10\n",
      "1    20\n",
      "2    30\n",
      "dtype: int64\n"
     ]
    }
   ],
   "source": [
    "series = pd.Series([10, 20, 30, 40, 50])\n",
    "elements = series[:3]\n",
    "print(elements)\n"
   ]
  },
  {
   "cell_type": "markdown",
   "id": "0bff6473",
   "metadata": {},
   "source": [
    "### 5. Filter Series elements greater than 50.\n"
   ]
  },
  {
   "cell_type": "code",
   "execution_count": null,
   "id": "90066c55",
   "metadata": {},
   "outputs": [
    {
     "name": "stdout",
     "output_type": "stream",
     "text": [
      "3    79.0\n",
      "4    50.2\n",
      "5    91.0\n",
      "dtype: float64\n"
     ]
    }
   ],
   "source": [
    "series = pd.Series([10, 36, 34, 79, 50.2, 91])\n",
    "filtered = series[series > 50]\n",
    "print(filtered)\n"
   ]
  },
  {
   "cell_type": "markdown",
   "id": "14c4b1d5",
   "metadata": {},
   "source": [
    "### 6. Add two Series with different indices.\n"
   ]
  },
  {
   "cell_type": "code",
   "execution_count": null,
   "id": "b28380db",
   "metadata": {},
   "outputs": [
    {
     "data": {
      "text/plain": [
       "a     NaN\n",
       "b    21.0\n",
       "c    32.0\n",
       "d     NaN\n",
       "dtype: float64"
      ]
     },
     "execution_count": 245,
     "metadata": {},
     "output_type": "execute_result"
    }
   ],
   "source": [
    "s1 = pd.Series([10, 20, 30], index=['a', 'b', 'c'])\n",
    "s2 = pd.Series([1, 2, 3], index=['b', 'c', 'd'])\n",
    "result = s1 + s2\n",
    "result"
   ]
  },
  {
   "cell_type": "markdown",
   "id": "bdad6cf2",
   "metadata": {},
   "source": [
    "### 7. Multiply a Series by a scalar.\n"
   ]
  },
  {
   "cell_type": "code",
   "execution_count": null,
   "id": "b6b51e8c",
   "metadata": {},
   "outputs": [
    {
     "data": {
      "text/plain": [
       "0    20\n",
       "1    40\n",
       "2    60\n",
       "3    80\n",
       "dtype: int64"
      ]
     },
     "execution_count": 246,
     "metadata": {},
     "output_type": "execute_result"
    }
   ],
   "source": [
    "series = pd.Series([10, 20, 30, 40])\n",
    "result = series * 2\n",
    "result"
   ]
  },
  {
   "cell_type": "markdown",
   "id": "82cba1b1",
   "metadata": {},
   "source": [
    "### 8. Use multiply() method to multiply with scalar\n"
   ]
  },
  {
   "cell_type": "code",
   "execution_count": null,
   "id": "019d71a7",
   "metadata": {},
   "outputs": [
    {
     "data": {
      "text/plain": [
       "0    30\n",
       "1    60\n",
       "2    90\n",
       "dtype: int64"
      ]
     },
     "execution_count": 247,
     "metadata": {},
     "output_type": "execute_result"
    }
   ],
   "source": [
    "s = pd.Series([10, 20, 30])\n",
    "result = s.multiply(3)\n",
    "result\n"
   ]
  },
  {
   "cell_type": "markdown",
   "id": "f2af636c",
   "metadata": {},
   "source": [
    "### 9. Sort Series by values descending\n"
   ]
  },
  {
   "cell_type": "code",
   "execution_count": null,
   "id": "000fb8a4",
   "metadata": {},
   "outputs": [
    {
     "data": {
      "text/plain": [
       "0    30\n",
       "2    20\n",
       "1    10\n",
       "dtype: int64"
      ]
     },
     "execution_count": 248,
     "metadata": {},
     "output_type": "execute_result"
    }
   ],
   "source": [
    "s = pd.Series([30, 10, 20])\n",
    "sorted_series = s.sort_values(ascending=False)\n",
    "sorted_series"
   ]
  },
  {
   "cell_type": "markdown",
   "id": "d7f458e6",
   "metadata": {},
   "source": [
    "### 10. Sort Series by index\n"
   ]
  },
  {
   "cell_type": "code",
   "execution_count": null,
   "id": "f5370366",
   "metadata": {},
   "outputs": [
    {
     "data": {
      "text/plain": [
       "a    30\n",
       "b    10\n",
       "c    20\n",
       "dtype: int64"
      ]
     },
     "execution_count": 249,
     "metadata": {},
     "output_type": "execute_result"
    }
   ],
   "source": [
    "s = pd.Series([10, 20, 30], index=['b', 'c', 'a'])\n",
    "sorted = s.sort_index()\n",
    "sorted\n"
   ]
  },
  {
   "cell_type": "markdown",
   "id": "4997d1af",
   "metadata": {},
   "source": [
    "### 11. Check for null values\n"
   ]
  },
  {
   "cell_type": "code",
   "execution_count": null,
   "id": "a94bf27f",
   "metadata": {},
   "outputs": [
    {
     "data": {
      "text/plain": [
       "0    False\n",
       "1     True\n",
       "2    False\n",
       "dtype: bool"
      ]
     },
     "execution_count": 250,
     "metadata": {},
     "output_type": "execute_result"
    }
   ],
   "source": [
    "s = pd.Series([10, None, 30])\n",
    "null = s.isnull()\n",
    "null"
   ]
  },
  {
   "cell_type": "markdown",
   "id": "f7d15dce",
   "metadata": {},
   "source": [
    "### 12. Concatenate two Series using concat()\n"
   ]
  },
  {
   "cell_type": "code",
   "execution_count": null,
   "id": "bde02b96",
   "metadata": {},
   "outputs": [
    {
     "data": {
      "text/plain": [
       "0    1\n",
       "1    2\n",
       "0    3\n",
       "1    4\n",
       "dtype: int64"
      ]
     },
     "execution_count": 251,
     "metadata": {},
     "output_type": "execute_result"
    }
   ],
   "source": [
    "s1 = pd.Series([1, 2])\n",
    "s2 = pd.Series([3, 4])\n",
    "concatenated = pd.concat([s1, s2])\n",
    "concatenated"
   ]
  },
  {
   "cell_type": "markdown",
   "id": "7258f75e",
   "metadata": {},
   "source": [
    "### 13. Concatenate two Series using append()\n"
   ]
  },
  {
   "cell_type": "code",
   "execution_count": null,
   "id": "61bcc02f",
   "metadata": {},
   "outputs": [],
   "source": [
    "s1 = pd.Series([1, 2])\n",
    "s2 = pd.Series([3, 4])\n",
    "# appended = s1.append(s2)\n",
    "# appended"
   ]
  },
  {
   "cell_type": "markdown",
   "id": "25f615c4",
   "metadata": {},
   "source": [
    "### 14. Retrieve first 5 elements using .head()\n"
   ]
  },
  {
   "cell_type": "code",
   "execution_count": null,
   "id": "c45dd075",
   "metadata": {},
   "outputs": [
    {
     "data": {
      "text/plain": [
       "0    0\n",
       "1    1\n",
       "2    2\n",
       "3    3\n",
       "4    4\n",
       "dtype: int64"
      ]
     },
     "execution_count": 253,
     "metadata": {},
     "output_type": "execute_result"
    }
   ],
   "source": [
    "s = pd.Series(range(10))\n",
    "first_five = s.head()\n",
    "first_five\n"
   ]
  },
  {
   "cell_type": "markdown",
   "id": "ee28e95a",
   "metadata": {},
   "source": [
    "### 15. Retrieve last 5 elements using .tail()\n"
   ]
  },
  {
   "cell_type": "code",
   "execution_count": null,
   "id": "9a73ba47",
   "metadata": {},
   "outputs": [
    {
     "data": {
      "text/plain": [
       "5    5\n",
       "6    6\n",
       "7    7\n",
       "8    8\n",
       "9    9\n",
       "dtype: int64"
      ]
     },
     "execution_count": 254,
     "metadata": {},
     "output_type": "execute_result"
    }
   ],
   "source": [
    "s = pd.Series(range(10))\n",
    "last_five = s.tail()\n",
    "last_five"
   ]
  },
  {
   "cell_type": "markdown",
   "id": "6ade7170",
   "metadata": {},
   "source": [
    "### 16. Convert Series to DataFrame\n"
   ]
  },
  {
   "cell_type": "code",
   "execution_count": null,
   "id": "276fa05f",
   "metadata": {},
   "outputs": [
    {
     "data": {
      "text/html": [
       "<div>\n",
       "<style scoped>\n",
       "    .dataframe tbody tr th:only-of-type {\n",
       "        vertical-align: middle;\n",
       "    }\n",
       "\n",
       "    .dataframe tbody tr th {\n",
       "        vertical-align: top;\n",
       "    }\n",
       "\n",
       "    .dataframe thead th {\n",
       "        text-align: right;\n",
       "    }\n",
       "</style>\n",
       "<table border=\"1\" class=\"dataframe\">\n",
       "  <thead>\n",
       "    <tr style=\"text-align: right;\">\n",
       "      <th></th>\n",
       "      <th>Values</th>\n",
       "    </tr>\n",
       "  </thead>\n",
       "  <tbody>\n",
       "    <tr>\n",
       "      <th>0</th>\n",
       "      <td>10</td>\n",
       "    </tr>\n",
       "    <tr>\n",
       "      <th>1</th>\n",
       "      <td>20</td>\n",
       "    </tr>\n",
       "    <tr>\n",
       "      <th>2</th>\n",
       "      <td>30</td>\n",
       "    </tr>\n",
       "  </tbody>\n",
       "</table>\n",
       "</div>"
      ],
      "text/plain": [
       "   Values\n",
       "0      10\n",
       "1      20\n",
       "2      30"
      ]
     },
     "execution_count": 255,
     "metadata": {},
     "output_type": "execute_result"
    }
   ],
   "source": [
    "s = pd.Series([10, 20, 30])\n",
    "df = s.to_frame(name='Values')\n",
    "df"
   ]
  },
  {
   "cell_type": "markdown",
   "id": "df274d75",
   "metadata": {},
   "source": [
    "### 17. Replace NaN with 0\n"
   ]
  },
  {
   "cell_type": "code",
   "execution_count": null,
   "id": "d10f3aa5",
   "metadata": {},
   "outputs": [
    {
     "data": {
      "text/plain": [
       "0    1.0\n",
       "1    0.0\n",
       "2    3.0\n",
       "dtype: float64"
      ]
     },
     "execution_count": 256,
     "metadata": {},
     "output_type": "execute_result"
    }
   ],
   "source": [
    "s = pd.Series([1, None, 3])\n",
    "filled = s.fillna(0)\n",
    "filled\n"
   ]
  },
  {
   "cell_type": "markdown",
   "id": "58ead44d",
   "metadata": {},
   "source": [
    "### 18. Drop missing values\n"
   ]
  },
  {
   "cell_type": "code",
   "execution_count": null,
   "id": "cc9b72d3",
   "metadata": {},
   "outputs": [
    {
     "data": {
      "text/plain": [
       "0    1.0\n",
       "2    3.0\n",
       "dtype: float64"
      ]
     },
     "execution_count": 257,
     "metadata": {},
     "output_type": "execute_result"
    }
   ],
   "source": [
    "s = pd.Series([1, None, 3])\n",
    "dropped = s.dropna()\n",
    "dropped"
   ]
  },
  {
   "cell_type": "markdown",
   "id": "21326f53",
   "metadata": {},
   "source": [
    "### 19. Check Series data type\n"
   ]
  },
  {
   "cell_type": "code",
   "execution_count": null,
   "id": "37041726",
   "metadata": {},
   "outputs": [
    {
     "data": {
      "text/plain": [
       "dtype('int64')"
      ]
     },
     "execution_count": 258,
     "metadata": {},
     "output_type": "execute_result"
    }
   ],
   "source": [
    "s = pd.Series([1, 2, 3])\n",
    "dtype = s.dtype\n",
    "dtype"
   ]
  }
 ],
 "metadata": {
  "kernelspec": {
   "display_name": "Python 3",
   "language": "python",
   "name": "python3"
  },
  "language_info": {
   "codemirror_mode": {
    "name": "ipython",
    "version": 3
   },
   "file_extension": ".py",
   "mimetype": "text/x-python",
   "name": "python",
   "nbconvert_exporter": "python",
   "pygments_lexer": "ipython3",
   "version": "3.10.0"
  }
 },
 "nbformat": 4,
 "nbformat_minor": 5
}
